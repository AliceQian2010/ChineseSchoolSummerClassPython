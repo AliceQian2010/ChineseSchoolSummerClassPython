{
 "cells": [
  {
   "cell_type": "code",
   "execution_count": 1,
   "metadata": {},
   "outputs": [],
   "source": [
    "def chatbot():\n",
    "    name=input('My name is Catrina, what is your name?') \n",
    "    print('Nice to meet you,',name)\n",
    "    food=input('what is your favorite food?')\n",
    "    print('Yum,',food, 'is so good! I wish I could eat it every day!')\n",
    "    sport=input('what is your favorite sport?')\n",
    "    print('wow! I used to do,',sport, 'when I was younger! But, it was hard and I quit.')\n",
    "    book=input('what is your favorite book?')\n",
    "    print('That sounds like a cool book! I did not read,',book, 'yet. I will now! I know it will be awesome!')\n",
    "    animal=input('what is you favorite animal?')\n",
    "    print('Wow, so cool! Mine is: CATS! They are just so cute!')\n",
    "    hobby=input('What is your hobby?')\n",
    "    print('Oh, I love',hobby, '!')\n",
    "    print('Bye, I need to go now,',name, ', We can chat another time!')"
   ]
  },
  {
   "cell_type": "code",
   "execution_count": 36,
   "metadata": {},
   "outputs": [
    {
     "name": "stdout",
     "output_type": "stream",
     "text": [
      "200\n"
     ]
    }
   ],
   "source": [
    "length=10\n",
    "width=20\n",
    "area=length*width\n",
    "print(area)"
   ]
  },
  {
   "cell_type": "code",
   "execution_count": 29,
   "metadata": {},
   "outputs": [],
   "source": [
    "length=10\n",
    "width=20\n",
    "def findarea(length,width):\n",
    "    area=length*width\n",
    "    print:area"
   ]
  },
  {
   "cell_type": "code",
   "execution_count": 30,
   "metadata": {},
   "outputs": [],
   "source": [
    "findarea(length,width)"
   ]
  },
  {
   "cell_type": "code",
   "execution_count": 31,
   "metadata": {},
   "outputs": [],
   "source": [
    "findarea(3,5)"
   ]
  },
  {
   "cell_type": "code",
   "execution_count": 32,
   "metadata": {},
   "outputs": [],
   "source": [
    "findarea(6,8)"
   ]
  },
  {
   "cell_type": "code",
   "execution_count": 42,
   "metadata": {},
   "outputs": [
    {
     "name": "stdout",
     "output_type": "stream",
     "text": [
      "pick a number9\n"
     ]
    }
   ],
   "source": [
    "num=int(input('pick a number'))"
   ]
  },
  {
   "cell_type": "code",
   "execution_count": 43,
   "metadata": {},
   "outputs": [
    {
     "name": "stdout",
     "output_type": "stream",
     "text": [
      "18\n"
     ]
    }
   ],
   "source": [
    "print(num+num)"
   ]
  },
  {
   "cell_type": "code",
   "execution_count": 44,
   "metadata": {},
   "outputs": [
    {
     "data": {
      "text/plain": [
       "int"
      ]
     },
     "execution_count": 44,
     "metadata": {},
     "output_type": "execute_result"
    }
   ],
   "source": [
    "type(num)"
   ]
  },
  {
   "cell_type": "code",
   "execution_count": 1,
   "metadata": {},
   "outputs": [
    {
     "name": "stdout",
     "output_type": "stream",
     "text": [
      "what is the tip percentage?19\n",
      "what is the bill amount?71\n",
      "13.49\n"
     ]
    }
   ],
   "source": [
    "tippercent=input ('what is the tip percentage?')\n",
    "bill=input ('what is the bill amount?')\n",
    "tip=int(bill)*float(tippercent) /100\n",
    "print(tip)"
   ]
  },
  {
   "cell_type": "code",
   "execution_count": null,
   "metadata": {},
   "outputs": [],
   "source": []
  }
 ],
 "metadata": {
  "kernelspec": {
   "display_name": "Python 3",
   "language": "python",
   "name": "python3"
  },
  "language_info": {
   "codemirror_mode": {
    "name": "ipython",
    "version": 3
   },
   "file_extension": ".py",
   "mimetype": "text/x-python",
   "name": "python",
   "nbconvert_exporter": "python",
   "pygments_lexer": "ipython3",
   "version": "3.7.6"
  }
 },
 "nbformat": 4,
 "nbformat_minor": 4
}
