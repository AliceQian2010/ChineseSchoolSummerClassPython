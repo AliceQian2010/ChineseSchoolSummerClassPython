{
 "cells": [
  {
   "cell_type": "code",
   "execution_count": 6,
   "metadata": {},
   "outputs": [],
   "source": [
    "def converter():\n",
    "    user_option=input('Please let me know what you want to convert. e.g. inches, pounds or fahrenheit')\n",
    "    if user_option not in ('inches', 'pounds', 'fahrenheit'): \n",
    "        print('Sorry, you picked the wrong option %s' % user_option)\n",
    "    else:\n",
    "        value=input('What is value')\n",
    "        if user_option == 'inches':\n",
    "            cm=float(value)*2.54\n",
    "            print(cm, 'cm')\n",
    "        elif user_option == 'pounds':\n",
    "            kg=float(value) /2.205\n",
    "            print(kg, 'kg')\n",
    "        elif user_option == 'fahrenheit':\n",
    "            Celcius=(float(value) - 32) *5/9 \n",
    "            print(Celcius, 'Celcius')"
   ]
  },
  {
   "cell_type": "code",
   "execution_count": 5,
   "metadata": {},
   "outputs": [
    {
     "name": "stdout",
     "output_type": "stream",
     "text": [
      "Please let me know what you want to convert. e.g. inches, pounds or fahrenheitfahrenheit\n",
      "What is value50\n",
      "10.0 Celcius\n"
     ]
    }
   ],
   "source": [
    "converter()"
   ]
  },
  {
   "cell_type": "code",
   "execution_count": 7,
   "metadata": {},
   "outputs": [
    {
     "name": "stdout",
     "output_type": "stream",
     "text": [
      "Please let me know what you want to convert. e.g. inches, pounds or fahrenheitinches\n",
      "What is value30\n",
      "76.2 cm\n"
     ]
    }
   ],
   "source": [
    "converter()"
   ]
  },
  {
   "cell_type": "code",
   "execution_count": 8,
   "metadata": {},
   "outputs": [
    {
     "name": "stdout",
     "output_type": "stream",
     "text": [
      "Please let me know what you want to convert. e.g. inches, pounds or fahrenheitpounds\n",
      "What is value70\n",
      "31.746031746031743 kg\n"
     ]
    }
   ],
   "source": [
    "converter()"
   ]
  }
 ],
 "metadata": {
  "kernelspec": {
   "display_name": "Python 3",
   "language": "python",
   "name": "python3"
  },
  "language_info": {
   "codemirror_mode": {
    "name": "ipython",
    "version": 3
   },
   "file_extension": ".py",
   "mimetype": "text/x-python",
   "name": "python",
   "nbconvert_exporter": "python",
   "pygments_lexer": "ipython3",
   "version": "3.7.6"
  }
 },
 "nbformat": 4,
 "nbformat_minor": 4
}
