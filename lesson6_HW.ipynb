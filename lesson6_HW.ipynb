{
 "cells": [
  {
   "cell_type": "code",
   "execution_count": 1,
   "metadata": {},
   "outputs": [],
   "source": [
    "def check_password (p):\n",
    "    x = 1254\n",
    "    while p != x:\n",
    "        print('Wrong Password : ', p)\n",
    "        p = int(input('What is your password? : '))\n",
    "    print('Password Correct!')"
   ]
  },
  {
   "cell_type": "code",
   "execution_count": 2,
   "metadata": {},
   "outputs": [
    {
     "name": "stdout",
     "output_type": "stream",
     "text": [
      "What is your password? : 123\n",
      "Wrong Password :  123\n",
      "What is your password? : 1254\n",
      "Password Correct!\n"
     ]
    }
   ],
   "source": [
    "p = int(input('What is your password? : '))\n",
    "check_password(p)"
   ]
  },
  {
   "cell_type": "markdown",
   "metadata": {},
   "source": [
    "Human Age / Animal Age"
   ]
  },
  {
   "cell_type": "code",
   "execution_count": 3,
   "metadata": {},
   "outputs": [],
   "source": [
    "def check_human_age ():\n",
    "    pet = input ('Is your pet a cat or a dog? : ')\n",
    "    age = int(input('How old is that ' + pet + '? : '))\n",
    "    if pet == 'cat':\n",
    "        if age == 1:\n",
    "            return 15\n",
    "        elif age == 2:\n",
    "            return 24\n",
    "        else:\n",
    "            return (age - 2) * 4 + 24\n",
    "        \n",
    "    elif pet == 'dog':\n",
    "        if age <= 2:\n",
    "            return age * 12  \n",
    "        else:\n",
    "            return (age - 2) * 4 + 24"
   ]
  },
  {
   "cell_type": "code",
   "execution_count": 4,
   "metadata": {},
   "outputs": [
    {
     "name": "stdout",
     "output_type": "stream",
     "text": [
      "Is your pet a cat or a dog? : cat\n",
      "How old is that cat? : 4\n"
     ]
    },
    {
     "data": {
      "text/plain": [
       "32"
      ]
     },
     "execution_count": 4,
     "metadata": {},
     "output_type": "execute_result"
    }
   ],
   "source": [
    "check_human_age()"
   ]
  }
 ],
 "metadata": {
  "kernelspec": {
   "display_name": "Python 3",
   "language": "python",
   "name": "python3"
  },
  "language_info": {
   "codemirror_mode": {
    "name": "ipython",
    "version": 3
   },
   "file_extension": ".py",
   "mimetype": "text/x-python",
   "name": "python",
   "nbconvert_exporter": "python",
   "pygments_lexer": "ipython3",
   "version": "3.7.6"
  }
 },
 "nbformat": 4,
 "nbformat_minor": 4
}
