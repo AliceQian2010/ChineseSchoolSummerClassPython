{
 "cells": [
  {
   "cell_type": "code",
   "execution_count": 8,
   "metadata": {},
   "outputs": [
    {
     "name": "stdout",
     "output_type": "stream",
     "text": [
      "4 0\n",
      "8 1\n",
      "16 2\n",
      "32 3\n"
     ]
    }
   ],
   "source": [
    "out = 2\n",
    "n = 4\n",
    "for f in range(n):\n",
    "    out = out * 2\n",
    "    print(out, f)"
   ]
  },
  {
   "cell_type": "code",
   "execution_count": 1,
   "metadata": {},
   "outputs": [],
   "source": [
    "import turtle\n",
    "Sally = turtle.Turtle()\n",
    "Lilly = turtle.Turtle()\n",
    "Beatrix = turtle.Turtle()"
   ]
  },
  {
   "cell_type": "code",
   "execution_count": 2,
   "metadata": {},
   "outputs": [],
   "source": [
    "color = ['purple', 'yellow', 'blue']\n",
    "turtlelist = [Sally, Lilly, Beatrix]\n",
    "y = [80, 100, 120]\n",
    "speed = [1, 2, 3]"
   ]
  },
  {
   "cell_type": "code",
   "execution_count": 3,
   "metadata": {},
   "outputs": [],
   "source": [
    "for i in range(3):\n",
    "    turtlelist[i].color(color[i])\n",
    "    turtlelist[i].shape('turtle')\n",
    "    turtlelist[i].setpos(-200, y[i])\n",
    "    turtlelist[i].penup()\n",
    "    turtlelist[i].pendown()"
   ]
  },
  {
   "cell_type": "code",
   "execution_count": 4,
   "metadata": {},
   "outputs": [],
   "source": [
    "for move in range(200):\n",
    "    for i in range(3):\n",
    "        turtlelist[i].forward(speed[i])"
   ]
  }
 ],
 "metadata": {
  "kernelspec": {
   "display_name": "Python 3",
   "language": "python",
   "name": "python3"
  },
  "language_info": {
   "codemirror_mode": {
    "name": "ipython",
    "version": 3
   },
   "file_extension": ".py",
   "mimetype": "text/x-python",
   "name": "python",
   "nbconvert_exporter": "python",
   "pygments_lexer": "ipython3",
   "version": "3.7.6"
  }
 },
 "nbformat": 4,
 "nbformat_minor": 4
}
