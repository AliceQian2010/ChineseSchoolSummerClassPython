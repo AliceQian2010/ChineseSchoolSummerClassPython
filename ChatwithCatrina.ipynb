{
 "cells": [
  {
   "cell_type": "code",
   "execution_count": 8,
   "metadata": {},
   "outputs": [
    {
     "name": "stdout",
     "output_type": "stream",
     "text": [
      "My name is Catrina, what is your name?Alice Qian\n"
     ]
    }
   ],
   "source": [
    "name=input('My name is Catrina, what is your name?') "
   ]
  },
  {
   "cell_type": "code",
   "execution_count": 9,
   "metadata": {},
   "outputs": [
    {
     "name": "stdout",
     "output_type": "stream",
     "text": [
      "Nice to meet you, Alice Qian\n"
     ]
    }
   ],
   "source": [
    "print('Nice to meet you,',name)"
   ]
  },
  {
   "cell_type": "code",
   "execution_count": 12,
   "metadata": {},
   "outputs": [
    {
     "name": "stdout",
     "output_type": "stream",
     "text": [
      "what is your favorite food?Icecream\n"
     ]
    }
   ],
   "source": [
    "food=input('what is your favorite food?')"
   ]
  },
  {
   "cell_type": "code",
   "execution_count": 13,
   "metadata": {},
   "outputs": [
    {
     "name": "stdout",
     "output_type": "stream",
     "text": [
      "Yum, Icecream is so good! I wish I could eat it every day!\n"
     ]
    }
   ],
   "source": [
    "print('Yum,',food, 'is so good! I wish I could eat it every day!')"
   ]
  },
  {
   "cell_type": "code",
   "execution_count": 14,
   "metadata": {},
   "outputs": [
    {
     "name": "stdout",
     "output_type": "stream",
     "text": [
      "what is your favorite sport? Swimming\n"
     ]
    }
   ],
   "source": [
    "sport=input('what is your favorite sport?')"
   ]
  },
  {
   "cell_type": "code",
   "execution_count": 15,
   "metadata": {},
   "outputs": [
    {
     "name": "stdout",
     "output_type": "stream",
     "text": [
      "wow! I used to do,  Swimming when I was younger! But, it was hard and I quit.\n"
     ]
    }
   ],
   "source": [
    "print('wow! I used to do,',sport, 'when I was younger! But, it was hard and I quit.')"
   ]
  },
  {
   "cell_type": "code",
   "execution_count": 16,
   "metadata": {},
   "outputs": [
    {
     "name": "stdout",
     "output_type": "stream",
     "text": [
      "what is your favorite book?Harry Potter and the Goblet of Fire\n"
     ]
    }
   ],
   "source": [
    "book=input('what is your favorite book?')"
   ]
  },
  {
   "cell_type": "code",
   "execution_count": 17,
   "metadata": {},
   "outputs": [
    {
     "name": "stdout",
     "output_type": "stream",
     "text": [
      "That sounds like a cool book! I did not read, Harry Potter and the Goblet of Fire yet. I will now! I know it will be awesome!\n"
     ]
    }
   ],
   "source": [
    "print('That sounds like a cool book! I did not read,',book, 'yet. I will now! I know it will be awesome!')"
   ]
  },
  {
   "cell_type": "code",
   "execution_count": 20,
   "metadata": {},
   "outputs": [
    {
     "name": "stdout",
     "output_type": "stream",
     "text": [
      "what is you favorite animal?Rabbits\n"
     ]
    }
   ],
   "source": [
    "animal=input('what is you favorite animal?')"
   ]
  },
  {
   "cell_type": "code",
   "execution_count": 21,
   "metadata": {},
   "outputs": [
    {
     "name": "stdout",
     "output_type": "stream",
     "text": [
      "Wow, so cool! Mine is: CATS! They are just so cute!\n"
     ]
    }
   ],
   "source": [
    "print('Wow, so cool! Mine is: CATS! They are just so cute!')"
   ]
  },
  {
   "cell_type": "code",
   "execution_count": 22,
   "metadata": {},
   "outputs": [
    {
     "name": "stdout",
     "output_type": "stream",
     "text": [
      "What is your hobby? Art\n"
     ]
    }
   ],
   "source": [
    "hobby=input('What is your hobby?')"
   ]
  },
  {
   "cell_type": "code",
   "execution_count": 23,
   "metadata": {},
   "outputs": [
    {
     "name": "stdout",
     "output_type": "stream",
     "text": [
      "Oh, I love  Art !\n"
     ]
    }
   ],
   "source": [
    "print('Oh, I love',hobby, '!')"
   ]
  },
  {
   "cell_type": "code",
   "execution_count": 24,
   "metadata": {},
   "outputs": [
    {
     "name": "stdout",
     "output_type": "stream",
     "text": [
      "Bye, I need to go now, Alice Qian , We can chat another time!\n"
     ]
    }
   ],
   "source": [
    "print('Bye, I need to go now,',name, ', We can chat another time!')"
   ]
  }
 ],
 "metadata": {
  "kernelspec": {
   "display_name": "Python 3",
   "language": "python",
   "name": "python3"
  },
  "language_info": {
   "codemirror_mode": {
    "name": "ipython",
    "version": 3
   },
   "file_extension": ".py",
   "mimetype": "text/x-python",
   "name": "python",
   "nbconvert_exporter": "python",
   "pygments_lexer": "ipython3",
   "version": "3.7.6"
  }
 },
 "nbformat": 4,
 "nbformat_minor": 4
}
