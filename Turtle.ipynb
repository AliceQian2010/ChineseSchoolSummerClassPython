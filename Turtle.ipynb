{
 "cells": [
  {
   "cell_type": "code",
   "execution_count": 1,
   "metadata": {},
   "outputs": [],
   "source": [
    "import turtle \n",
    "shelly=turtle.Turtle()\n",
    "shelly.shape('turtle')\n",
    "shelly.color('red')\n",
    "shelly.shapesize(5,2.5)"
   ]
  },
  {
   "cell_type": "code",
   "execution_count": 2,
   "metadata": {},
   "outputs": [],
   "source": [
    "shelly.forward(100)\n",
    "shelly.right(90)\n",
    "shelly.backward(100)\n",
    "shelly.left(60)\n",
    "shelly.backward(100)\n",
    "shelly.forward(50)"
   ]
  },
  {
   "cell_type": "code",
   "execution_count": 3,
   "metadata": {},
   "outputs": [],
   "source": [
    "shelly.home()\n",
    "shelly.position()\n",
    "shelly.heading()\n",
    "shelly.circle(50)\n",
    "shelly.circle(120, 180) \n",
    "shelly.setposition(0.00,240.00)\n",
    "# turtle.pos()\n",
    "shelly.setheading(180.0)\n",
    "# turtle.heading()\n",
    "shelly.fillcolor(\"violet\")\n",
    "# turtle.fillcolor()"
   ]
  },
  {
   "cell_type": "code",
   "execution_count": 4,
   "metadata": {},
   "outputs": [],
   "source": [
    "shelly.home()\n",
    "shelly.dot()\n",
    "shelly.fd(50); turtle.dot(20, \"blue\"); turtle.fd(50);\n",
    "shelly.setposition(100.00,0.00)\n",
    "shelly.setheading(0.0)"
   ]
  },
  {
   "cell_type": "code",
   "execution_count": 5,
   "metadata": {},
   "outputs": [],
   "source": [
    "shelly.color(\"blue\")\n",
    "shelly.stamp()\n",
    "shelly.fd(50)"
   ]
  },
  {
   "cell_type": "code",
   "execution_count": 6,
   "metadata": {},
   "outputs": [],
   "source": [
    "for i in range(6):\n",
    "    for m in range(4):\n",
    "        shelly.forward(100)\n",
    "        shelly.left(90)\n",
    "    shelly.right(60)"
   ]
  },
  {
   "cell_type": "code",
   "execution_count": 7,
   "metadata": {},
   "outputs": [],
   "source": [
    "for e in range(36):\n",
    "    for j in range(6):\n",
    "        shelly.forward(100)\n",
    "        shelly.left(60)\n",
    "    shelly.right(10)"
   ]
  },
  {
   "cell_type": "code",
   "execution_count": 2,
   "metadata": {},
   "outputs": [
    {
     "name": "stdout",
     "output_type": "stream",
     "text": [
      "0\n",
      "0\n",
      "1\n",
      "0\n",
      "2\n",
      "0\n",
      "0\n",
      "1\n",
      "1\n",
      "1\n",
      "2\n",
      "1\n",
      "0\n",
      "2\n",
      "1\n",
      "2\n",
      "2\n",
      "2\n"
     ]
    }
   ],
   "source": [
    "for i in range(4):\n",
    "    for j in range(4):\n",
    "        print(j)\n",
    "        print(i)"
   ]
  },
  {
   "cell_type": "code",
   "execution_count": 3,
   "metadata": {},
   "outputs": [
    {
     "name": "stdout",
     "output_type": "stream",
     "text": [
      "0\n",
      "1\n",
      "2\n",
      "0\n",
      "0\n",
      "1\n",
      "2\n",
      "1\n",
      "0\n",
      "1\n",
      "2\n",
      "2\n"
     ]
    }
   ],
   "source": [
    "for i in range(4):\n",
    "    for j in range(4):\n",
    "        print(j)\n",
    "    print(i)"
   ]
  },
  {
   "cell_type": "code",
   "execution_count": null,
   "metadata": {},
   "outputs": [],
   "source": []
  }
 ],
 "metadata": {
  "kernelspec": {
   "display_name": "Python 3",
   "language": "python",
   "name": "python3"
  },
  "language_info": {
   "codemirror_mode": {
    "name": "ipython",
    "version": 3
   },
   "file_extension": ".py",
   "mimetype": "text/x-python",
   "name": "python",
   "nbconvert_exporter": "python",
   "pygments_lexer": "ipython3",
   "version": "3.7.6"
  }
 },
 "nbformat": 4,
 "nbformat_minor": 4
}
