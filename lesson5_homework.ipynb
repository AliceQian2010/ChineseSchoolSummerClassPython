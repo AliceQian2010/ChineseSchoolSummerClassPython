{
 "cells": [
  {
   "cell_type": "markdown",
   "metadata": {},
   "source": [
    "Odd/Even H.W."
   ]
  },
  {
   "cell_type": "code",
   "execution_count": 9,
   "metadata": {},
   "outputs": [],
   "source": [
    "def check_odd_even (num):\n",
    "    if (int(num)) % 2 == 0:\n",
    "        print(num, ': your number is even')\n",
    "    else:\n",
    "        print(num, ': your number is odd')"
   ]
  },
  {
   "cell_type": "code",
   "execution_count": 10,
   "metadata": {
    "scrolled": false
   },
   "outputs": [
    {
     "name": "stdout",
     "output_type": "stream",
     "text": [
      "I can test if a number is odd or even. What number do you want to test? 6789\n",
      "6789 : your number is odd\n"
     ]
    }
   ],
   "source": [
    "option = input('I can test if a number is odd or even. What number do you want to test? ')\n",
    "check_odd_even(option)"
   ]
  },
  {
   "cell_type": "markdown",
   "metadata": {},
   "source": [
    "Weather H.W."
   ]
  },
  {
   "cell_type": "code",
   "execution_count": 36,
   "metadata": {},
   "outputs": [],
   "source": [
    "def check_hot_cold (weather, temperature):\n",
    "    if weather == 'Windy':\n",
    "        print ('You should wear your jacket today')  \n",
    "    elif temperature == 'Cold': \n",
    "        print ('You should wear your jacket today')\n",
    "    elif weather  and temperature :\n",
    "        print ('You should wear your jacket today')\n",
    "    else:\n",
    "        print ('You do not need to wear a jacket today')"
   ]
  },
  {
   "cell_type": "code",
   "execution_count": 37,
   "metadata": {},
   "outputs": [
    {
     "name": "stdout",
     "output_type": "stream",
     "text": [
      "What is the weather? Cold\n",
      "What is the temperature? 9\n",
      "You should wear your jacket today\n"
     ]
    }
   ],
   "source": [
    "weather = input ('What is the weather? ')\n",
    "temperature = input ('What is the temperature? ')\n",
    "check_hot_cold (weather, temperature)"
   ]
  },
  {
   "cell_type": "code",
   "execution_count": null,
   "metadata": {},
   "outputs": [],
   "source": []
  }
 ],
 "metadata": {
  "kernelspec": {
   "display_name": "Python 3",
   "language": "python",
   "name": "python3"
  },
  "language_info": {
   "codemirror_mode": {
    "name": "ipython",
    "version": 3
   },
   "file_extension": ".py",
   "mimetype": "text/x-python",
   "name": "python",
   "nbconvert_exporter": "python",
   "pygments_lexer": "ipython3",
   "version": "3.7.6"
  }
 },
 "nbformat": 4,
 "nbformat_minor": 4
}
