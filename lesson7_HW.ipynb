{
 "cells": [
  {
   "cell_type": "code",
   "execution_count": 65,
   "metadata": {},
   "outputs": [
    {
     "name": "stdout",
     "output_type": "stream",
     "text": [
      "Enter number of dice: 4\n",
      "Rolling, please wait...\n",
      "++++++++++++++++++++++++++++++++++++++++++++++++++++++++\n",
      "These are the numbers that you rolled with your 4 dice : [5, 3, 6, 1]\n",
      "Ok! Computers turn...\n",
      "Computer numbers: [2, 4, 5, 3]\n",
      "You can press \"-\" to hold and \"r\" to roll again. Enter your pattern: -r-r\n",
      "-\n",
      "These are the numbers that you rolled with your 4 dice : [5, 4, 6, 5]\n",
      "Computer numbers: [4, 4, 5, 5]\n",
      "You won! Your total was: 20 and the computers was: 18\n"
     ]
    }
   ],
   "source": [
    "import random\n",
    "import time\n",
    "\n",
    "# print \"you won\" if your sum is larger, print \"computer won\" if computer's sum is larger. Otherwise, print \"same\"\n",
    "def print_result(t, total):\n",
    "    if t < total:\n",
    "        print('You won! Your total was:',total,'and the computers was:',t)\n",
    "    elif t > total:\n",
    "        print('The computer won! Your total was:',total,'and the computers was:',t)\n",
    "    else:\n",
    "        print('Same! Your total was:',total,'and the computers was:',t)\n",
    "        \n",
    "#get the total number of a list        \n",
    "def total_num(l):\n",
    "    t = 0\n",
    "    for c in l:\n",
    "        t=t+c\n",
    "    return t\n",
    "\n",
    "dice = []\n",
    "n = int (input('Enter number of dice: '))\n",
    "print('Rolling, please wait...')\n",
    "time.sleep(0.5)\n",
    "print('++++++++++++++++++++++++++++++++++++++++++++++++++++++++')\n",
    "time.sleep(1.2)\n",
    "for i in range (n):\n",
    "    dice.append(random.randint(1, 6))\n",
    "print ('These are the numbers that you rolled with your',n, 'dice :',dice)\n",
    "time.sleep(1)\n",
    "print('Ok! Computers turn...')\n",
    "time.sleep(1)\n",
    "comp = []\n",
    "for j in range (n):\n",
    "    comp.append(random.randint(1, 6))\n",
    "time.sleep(1)\n",
    "print('Computer numbers:',comp)\n",
    "time.sleep(1)\n",
    "\n",
    "# total = total_num(dice)      \n",
    "# t = total_num(comp)\n",
    "# print_result(t, total)\n",
    "    \n",
    "choice=input('You can press \"-\" to hold and \"r\" to roll again. Enter your pattern: ')\n",
    "print(choice[0])\n",
    "dice2 = []\n",
    "for i in range(n):\n",
    "    if choice[i] == '-':\n",
    "        dice2.append(dice[i])\n",
    "    else:\n",
    "        dice2.append(random.randint(1, 6))\n",
    "print ('These are the numbers that you rolled with your',n, 'dice :',dice2)\n",
    "\n",
    "f = total_num(dice2)   \n",
    "\n",
    "comp2 = []    \n",
    "for i in range(n):\n",
    "    if comp[i] in [1, 2, 3]:\n",
    "        comp2.append(random.randint(1, 6))\n",
    "    else:\n",
    "        comp2.append(comp[i])\n",
    "print('Computer numbers:',comp2)\n",
    "\n",
    "d = total_num(comp2)\n",
    "\n",
    "print_result(d, f)    \n"
   ]
  }
 ],
 "metadata": {
  "kernelspec": {
   "display_name": "Python 3",
   "language": "python",
   "name": "python3"
  },
  "language_info": {
   "codemirror_mode": {
    "name": "ipython",
    "version": 3
   },
   "file_extension": ".py",
   "mimetype": "text/x-python",
   "name": "python",
   "nbconvert_exporter": "python",
   "pygments_lexer": "ipython3",
   "version": "3.7.6"
  }
 },
 "nbformat": 4,
 "nbformat_minor": 4
}
